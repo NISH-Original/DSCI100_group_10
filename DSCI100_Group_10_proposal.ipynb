{
 "cells": [
  {
   "cell_type": "markdown",
   "id": "8c41bf0d-e3d2-4490-845e-479481f536b9",
   "metadata": {},
   "source": [
    "# DSCI 100 Group 10 Group Project Proposal\n",
    "\n",
    "## Members\n",
    "- Nishant Molleti\n",
    "- Ajitesh Taneja\n",
    "- Asteria Xu\n",
    "- Audrey Tsung"
   ]
  },
  {
   "cell_type": "markdown",
   "id": "088c8e20-6f7e-4c51-b8ea-27e7163ccd77",
   "metadata": {},
   "source": [
    "## Introduction\n",
    "\n",
    "Pulsars are rotating Neutron stars that emit radio waves at regular intervals, and their detection is important in fields such as astrophysics and radio astronomy. However, pulsars are challenging to detect due to interference and noise at radio frequencies. To improve detection, machine learning techniques have been employed. The question that can be addressed is: Which features are likely to be the most important for classifying pulsars from non-pulsars? The dataset used to answer this question is the HTRU2 dataset, which contains 17,898 observations of pulsars and non-pulsars, obtained from the High Time Resolution Universe Survey. Each observation has 8 features, including the mean, standard deviation, excess kurtosis and skewness of the integrated profile and DM-Snr curve. Additionally, a binary label is used to indicate whether an observation is a pulsar or not.\n"
   ]
  },
  {
   "cell_type": "code",
   "execution_count": null,
   "id": "5c079ec8-5a69-4b45-8c7f-62b9e62f3c0c",
   "metadata": {},
   "outputs": [],
   "source": []
  }
 ],
 "metadata": {
  "kernelspec": {
   "display_name": "R",
   "language": "R",
   "name": "ir"
  },
  "language_info": {
   "codemirror_mode": "r",
   "file_extension": ".r",
   "mimetype": "text/x-r-source",
   "name": "R",
   "pygments_lexer": "r",
   "version": "4.1.3"
  }
 },
 "nbformat": 4,
 "nbformat_minor": 5
}
